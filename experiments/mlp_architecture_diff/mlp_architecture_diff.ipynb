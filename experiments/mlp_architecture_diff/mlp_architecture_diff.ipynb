{
 "cells": [
  {
   "cell_type": "code",
   "execution_count": null,
   "id": "59ef9830",
   "metadata": {},
   "outputs": [],
   "source": [
    "%cd ../..\n",
    "%ls"
   ]
  },
  {
   "cell_type": "code",
   "execution_count": null,
   "id": "85b572ed",
   "metadata": {},
   "outputs": [],
   "source": [
    "!conda install -c conda-forge libgfortran -y\n",
    "!conda install -c conda-forge gfortran_osx-64 -y\n",
    "!conda install -c conda-forge gfortran_impl_osx-64 -y"
   ]
  },
  {
   "cell_type": "code",
   "execution_count": null,
   "id": "a0ddec93",
   "metadata": {},
   "outputs": [],
   "source": [
    "import torch\n",
    "from data.generating.generate_data import generate_toy_data\n",
    "train_dataset, test_dataset = generate_toy_data(n_samples=1000, seed=0)"
   ]
  },
  {
   "cell_type": "code",
   "execution_count": null,
   "id": "75b798c9",
   "metadata": {},
   "outputs": [],
   "source": [
    "import torch.nn as nn\n",
    "\n",
    "# Import models\n",
    "from model_zoo.mlp1 import mlp1\n",
    "from model_zoo.mlp2 import mlp2\n",
    "\n",
    "# Import the generic trainer\n",
    "from training.train_model_generic import train_model_generic\n",
    "\n",
    "model1 = mlp1(input_dim=2, latent_dim=8, output_dim=2)\n",
    "\n",
    "# Train with CrossEntropyLoss (classification)\n",
    "criterion_ce = nn.CrossEntropyLoss()\n",
    "\n",
    "print(\"Training ModelOne:\")\n",
    "model1_trained = train_model_generic(\n",
    "    model=model1,\n",
    "    train_dataset=train_dataset,\n",
    "    criterion=criterion_ce,\n",
    "    epochs=5,\n",
    "    lr=1e-3,\n",
    "    batch_size=32,\n",
    "    shuffle=True,\n",
    "    device=\"cpu\"\n",
    ")\n",
    "\n",
    "# Now instantiate ModelTwo\n",
    "model2 = mlp2(input_dim=2, latent_dim=8, output_dim=2)\n",
    "\n",
    "print(\"Training ModelTwo:\")\n",
    "model2_trained = train_model_generic(\n",
    "    model=model2,\n",
    "    train_dataset=train_dataset,\n",
    "    criterion=criterion_ce,\n",
    "    epochs=5,\n",
    "    lr=1e-3,\n",
    "    batch_size=32,\n",
    "    shuffle=True,\n",
    "    device=\"cpu\"\n",
    ")\n"
   ]
  },
  {
   "cell_type": "code",
   "execution_count": null,
   "id": "6dcede76",
   "metadata": {},
   "outputs": [],
   "source": [
    "# Generate latents for crosscoder training\n",
    "from experiments.experiment1.generate_latents import generate_latents\n",
    "latents1, _ = generate_latents(model1, train_dataset, batch_size=32)\n",
    "latents2, _ = generate_latents(model2, train_dataset, batch_size=32)\n",
    "\n",
    "# Train crosscoder\n",
    "from experiments.experiment1.train_crosscoder import train_crosscoder\n",
    "crosscoder = train_crosscoder(\n",
    "    latents1, \n",
    "    latents2, \n",
    "    input_dim=8, \n",
    "    output_dim=8, \n",
    "    epochs=10, \n",
    "    lr=1e-3, \n",
    "    batch_size=32\n",
    ")\n",
    "\n",
    "# Analyze results on test dataset\n",
    "from experiments.experiment1.analyze_results import analyze_results\n",
    "metrics = analyze_results(crosscoder, model1, model2, test_dataset)\n",
    "\n",
    "print(\"==== Crosscoder Performance on Test Set ====\")\n",
    "print(\"MSE: \", metrics[\"mse\"])\n",
    "print(\"Average correlation: \", metrics[\"average_correlation\"])\n",
    "print(\"Dimension-wise correlations:\", metrics[\"dim_correlations\"])\n"
   ]
  }
 ],
 "metadata": {
  "kernelspec": {
   "display_name": "Python 3",
   "language": "python",
   "name": "python3"
  },
  "language_info": {
   "codemirror_mode": {
    "name": "ipython",
    "version": 3
   },
   "file_extension": ".py",
   "mimetype": "text/x-python",
   "name": "python",
   "nbconvert_exporter": "python",
   "pygments_lexer": "ipython3",
   "version": "3.10.15"
  }
 },
 "nbformat": 4,
 "nbformat_minor": 5
}

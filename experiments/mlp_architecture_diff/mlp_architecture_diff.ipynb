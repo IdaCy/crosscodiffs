{
 "cells": [
  {
   "cell_type": "code",
   "execution_count": 12,
   "id": "a0ddec93",
   "metadata": {},
   "outputs": [],
   "source": [
    "import torch\n",
    "from data.generating.generate_data import generate_toy_data\n",
    "train_dataset, test_dataset = generate_toy_data(n_samples=1000, seed=0)"
   ]
  },
  {
   "cell_type": "code",
   "execution_count": 13,
   "id": "75b798c9",
   "metadata": {},
   "outputs": [
    {
     "name": "stdout",
     "output_type": "stream",
     "text": [
      "Training ModelOne:\n",
      "Epoch [1/5], Loss: 0.6836\n",
      "Epoch [2/5], Loss: 0.6590\n",
      "Epoch [3/5], Loss: 0.6346\n",
      "Epoch [4/5], Loss: 0.6089\n",
      "Epoch [5/5], Loss: 0.5804\n",
      "Training ModelTwo:\n",
      "Epoch [1/5], Loss: 0.7052\n",
      "Epoch [2/5], Loss: 0.6914\n",
      "Epoch [3/5], Loss: 0.6788\n",
      "Epoch [4/5], Loss: 0.6665\n",
      "Epoch [5/5], Loss: 0.6542\n"
     ]
    }
   ],
   "source": [
    "import torch.nn as nn\n",
    "\n",
    "# Import models\n",
    "from model_zoo.mlp1 import mlp1\n",
    "from model_zoo.mlp2 import mlp2\n",
    "\n",
    "# Import the generic trainer\n",
    "from training.train_model_generic import train_model_generic\n",
    "\n",
    "model1 = mlp1(input_dim=2, latent_dim=8, output_dim=2)\n",
    "\n",
    "# Train with CrossEntropyLoss (classification)\n",
    "criterion_ce = nn.CrossEntropyLoss()\n",
    "\n",
    "print(\"Training ModelOne:\")\n",
    "model1_trained = train_model_generic(\n",
    "    model=model1,\n",
    "    train_dataset=train_dataset,\n",
    "    criterion=criterion_ce,\n",
    "    epochs=5,\n",
    "    lr=1e-3,\n",
    "    batch_size=32,\n",
    "    shuffle=True,\n",
    "    device=\"cpu\"\n",
    ")\n",
    "\n",
    "# Now instantiate ModelTwo\n",
    "model2 = mlp2(input_dim=2, latent_dim=8, output_dim=2)\n",
    "\n",
    "print(\"Training ModelTwo:\")\n",
    "model2_trained = train_model_generic(\n",
    "    model=model2,\n",
    "    train_dataset=train_dataset,\n",
    "    criterion=criterion_ce,\n",
    "    epochs=5,\n",
    "    lr=1e-3,\n",
    "    batch_size=32,\n",
    "    shuffle=True,\n",
    "    device=\"cpu\"\n",
    ")\n"
   ]
  },
  {
   "cell_type": "code",
   "execution_count": 14,
   "id": "6dcede76",
   "metadata": {},
   "outputs": [],
   "source": [
    "# Generate latents for crosscoder training\n",
    "from experiments.mlp_architecture_diff.runs.generate_latents import generate_latents\n",
    "latents1, _ = generate_latents(model1, train_dataset, batch_size=32)\n",
    "latents2, _ = generate_latents(model2, train_dataset, batch_size=32)\n",
    "\n",
    "# Train crosscoder\n",
    "from training.train_crosscoder import train_crosscoder\n",
    "crosscoder = train_crosscoder(\n",
    "    latents1, \n",
    "    latents2, \n",
    "    input_dim=8, \n",
    "    output_dim=8, \n",
    "    epochs=10, \n",
    "    lr=1e-3, \n",
    "    batch_size=32\n",
    ")"
   ]
  },
  {
   "cell_type": "code",
   "execution_count": 15,
   "id": "e6df1b79",
   "metadata": {},
   "outputs": [
    {
     "name": "stdout",
     "output_type": "stream",
     "text": [
      "==== Crosscoder Performance on Test Set ====\n",
      "MSE:  0.03407642990350723\n",
      "Average correlation:  0.4793343559431378\n",
      "Dimension-wise correlations: [0.48023390769958496, 0.6672911047935486, 0.6115498542785645, 0.5287367701530457, 0.6353644728660583, 0.05385603755712509, -0.002450237749144435, 0.8600929379463196]\n"
     ]
    }
   ],
   "source": [
    "# Analyze results on test dataset\n",
    "from experiments.mlp_architecture_diff.analysis.analyze_results import analyze_results\n",
    "metrics = analyze_results(crosscoder, model1, model2, test_dataset)\n",
    "\n",
    "print(\"==== Crosscoder Performance on Test Set ====\")\n",
    "print(\"MSE: \", metrics[\"mse\"])\n",
    "print(\"Average correlation: \", metrics[\"average_correlation\"])\n",
    "print(\"Dimension-wise correlations:\", metrics[\"dim_correlations\"])"
   ]
  }
 ],
 "metadata": {
  "kernelspec": {
   "display_name": "Python 3",
   "language": "python",
   "name": "python3"
  },
  "language_info": {
   "codemirror_mode": {
    "name": "ipython",
    "version": 3
   },
   "file_extension": ".py",
   "mimetype": "text/x-python",
   "name": "python",
   "nbconvert_exporter": "python",
   "pygments_lexer": "ipython3",
   "version": "3.10.12"
  }
 },
 "nbformat": 4,
 "nbformat_minor": 5
}
